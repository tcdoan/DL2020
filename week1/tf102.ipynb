{
 "cells": [
  {
   "cell_type": "code",
   "execution_count": 1,
   "metadata": {},
   "outputs": [],
   "source": [
    "import numpy as np\n",
    "import tensorflow as tf\n",
    "import matplotlib.pyplot as plt \n",
    "# tf.InteractiveSession()"
   ]
  },
  {
   "cell_type": "code",
   "execution_count": 4,
   "metadata": {},
   "outputs": [
    {
     "data": {
      "text/plain": "array([[18]])"
     },
     "execution_count": 4,
     "metadata": {},
     "output_type": "execute_result"
    }
   ],
   "source": [
    "a = tf.constant([3, 6])\n",
    "b = tf.constant([2, 2])\n",
    "\n",
    "tf.mod(a, b).eval()\n",
    "tf.matmul(tf.reshape(a, [1, 2]), tf.reshape(b, [2, 1])).eval()"
   ]
  },
  {
   "cell_type": "code",
   "execution_count": 7,
   "metadata": {},
   "outputs": [
    {
     "data": {
      "text/plain": "array([b'', b'', b''], dtype=object)"
     },
     "execution_count": 7,
     "metadata": {},
     "output_type": "execute_result"
    }
   ],
   "source": [
    "t1 = ['a', 'bc', 'd']\n",
    "tf.zeros_like(t1).eval()\n"
   ]
  },
  {
   "cell_type": "code",
   "execution_count": 11,
   "metadata": {},
   "outputs": [
    {
     "name": "stdout",
     "output_type": "stream",
     "text": "<bound method Graph.as_graph_def of <tensorflow.python.framework.ops.Graph object at 0x000001ABEAEAB0C8>>\n"
    }
   ],
   "source": [
    "a = tf.constant([3, 6])\n",
    "b = tf.constant([2, 2])\n",
    "\n",
    "with tf.Session() as sess:\n",
    "    xx = sess.graph.as_graph_def\n",
    "    print(xx)"
   ]
  },
  {
   "cell_type": "code",
   "execution_count": 21,
   "metadata": {},
   "outputs": [
    {
     "name": "stdout",
     "output_type": "stream",
     "text": "100\n"
    }
   ],
   "source": [
    "\n",
    "W = tf.Variable(10)\n",
    "\n",
    "# init = tf.global_variables_initializer(\n",
    "init_W = tf.variables_initializer([W])\n",
    "    \n",
    "assign_op = W.assign(100)\n",
    "with tf.Session() as s:\n",
    "    # s.run(W.initializer)\n",
    "    # s.run(init)\n",
    "    # s.run(init_W)\n",
    "    s.run(assign_op)\n",
    "    print(W.eval())"
   ]
  },
  {
   "cell_type": "code",
   "execution_count": 31,
   "metadata": {},
   "outputs": [
    {
     "name": "stdout",
     "output_type": "stream",
     "text": "4\n"
    }
   ],
   "source": [
    "x1 = tf.Variable(2)\n",
    "x2= tf.Variable(2*x1)\n",
    "\n",
    "s = tf.InteractiveSession()\n",
    "s.run(x2.initializer)\n",
    "print(x2.eval())"
   ]
  },
  {
   "cell_type": "code",
   "execution_count": 28,
   "metadata": {},
   "outputs": [
    {
     "name": "stdout",
     "output_type": "stream",
     "text": "4\n"
    }
   ],
   "source": [
    "a = tf.Variable(2)\n",
    "b = tf.Variable(2*a.initialized_value())\n",
    "s = tf.InteractiveSession()\n",
    "s.run(b.initializer)\n",
    "print(b.eval()) "
   ]
  },
  {
   "cell_type": "code",
   "execution_count": 11,
   "metadata": {},
   "outputs": [
    {
     "name": "stdout",
     "output_type": "stream",
     "text": "[5. 5. 5.]\n"
    }
   ],
   "source": [
    "a = tf.placeholder(tf.float32, shape=[3], name=\"a\")\n",
    "b = tf.constant([2, 2, 2], tf.float32)\n",
    "c = a + b\n",
    "\n",
    "with tf.Session() as s:\n",
    "    print(s.run(c, feed_dict = {a: [3.0, 3, 3]}))"
   ]
  },
  {
   "cell_type": "code",
   "execution_count": 2,
   "metadata": {},
   "outputs": [],
   "source": [
    "x = tf.Variable(10, name=\"x\")\n",
    "y = tf.Variable(20, name=\"y\")\n",
    "\n",
    "with tf.Session() as s:\n",
    "    s.run(tf.global_variables_initializer())\n",
    "    writer = tf.summary.FileWriter('./g15', s.graph)\n",
    "    for _ in range(10):\n",
    "        s.run(tf.add(x, y))\n",
    "    writer.close()"
   ]
  },
  {
   "cell_type": "code",
   "execution_count": 4,
   "metadata": {},
   "outputs": [
    {
     "name": "stdout",
     "output_type": "stream",
     "text": "[0.26894143 0.7310586 ]\n"
    }
   ],
   "source": [
    "def softmax(x):    \n",
    "    s = tf.Session()\n",
    "    return s.run(tf.nn.softmax(x))       \n",
    "\n",
    "print(softmax([1.0, 2]))\n",
    "print(np.exp(1)/(np.exp(1)+np.exp(2)))\n"
   ]
  },
  {
   "cell_type": "code",
   "execution_count": 12,
   "metadata": {},
   "outputs": [
    {
     "name": "stdout",
     "output_type": "stream",
     "text": "0.63246515619844\n"
    }
   ],
   "source": [
    "def h(y, yhat):\n",
    "    s = np.multiply(y, -np.log(yhat))\n",
    "    return np.sum(s)\n",
    "\n",
    "y = [.3, .7]\n",
    "yhat = [.4, .6]\n",
    "print(h(y, yhat))"
   ]
  },
  {
   "cell_type": "code",
   "execution_count": 13,
   "metadata": {},
   "outputs": [
    {
     "data": {
      "text/plain": "0.63246515619844"
     },
     "execution_count": 13,
     "metadata": {},
     "output_type": "execute_result"
    }
   ],
   "source": [
    "-.3*np.log(.4) - .7*np.log(.6)"
   ]
  },
  {
   "cell_type": "code",
   "execution_count": 6,
   "metadata": {},
   "outputs": [
    {
     "name": "stdout",
     "output_type": "stream",
     "text": "0.2689414213699951\n"
    }
   ],
   "source": [
    "print(np.exp(1)/(np.exp(1)+np.exp(2)))"
   ]
  }
 ],
 "metadata": {
  "kernelspec": {
   "display_name": "Python 3",
   "language": "python",
   "name": "python3"
  },
  "language_info": {
   "codemirror_mode": {
    "name": "ipython",
    "version": 3
   },
   "file_extension": ".py",
   "mimetype": "text/x-python",
   "name": "python",
   "nbconvert_exporter": "python",
   "pygments_lexer": "ipython3",
   "version": "3.7.4-final"
  }
 },
 "nbformat": 4,
 "nbformat_minor": 2
}